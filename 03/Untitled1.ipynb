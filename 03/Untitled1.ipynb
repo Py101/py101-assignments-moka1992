{
 "cells": [
  {
   "cell_type": "code",
   "execution_count": 1,
   "metadata": {
    "collapsed": true
   },
   "outputs": [],
   "source": [
    "import json"
   ]
  },
  {
   "cell_type": "code",
   "execution_count": 3,
   "metadata": {},
   "outputs": [],
   "source": [
    "with open ('Data/battle_locations.json') as fp:\n",
    "    battle_locations =json.load(fp)\n",
    "\n",
    "#fp è un nome che decido io"
   ]
  },
  {
   "cell_type": "code",
   "execution_count": 4,
   "metadata": {
    "collapsed": true
   },
   "outputs": [],
   "source": [
    "with open ('Data/king_defender_battles.json') as fp:\n",
    "    king_def_battle =json.load (fp)"
   ]
  },
  {
   "cell_type": "code",
   "execution_count": 5,
   "metadata": {},
   "outputs": [
    {
     "data": {
      "text/plain": [
       "('Battle of Oxcross', ['Oxcross'])"
      ]
     },
     "execution_count": 5,
     "metadata": {},
     "output_type": "execute_result"
    }
   ],
   "source": [
    "[(x,y) for (x,y) in battle_locations.items()][0]"
   ]
  },
  {
   "cell_type": "code",
   "execution_count": 6,
   "metadata": {},
   "outputs": [
    {
     "name": "stdout",
     "output_type": "stream",
     "text": [
      "{'Battle of Oxcross': ['Oxcross'], 'Battle of Moat Cailin': ['Moat Cailin'], 'Siege of Seagard': ['Seagard'], 'Battle of Castle Black': ['Castle Black'], \"Battle at the Mummer's Ford\": [\"Mummer's Ford\"], 'Invasion of Ryamsport, Vinetown, and Starfish Harbor': ['Ryamsport, Vinetown, Starfish Harbor'], 'Retaking of Deepwood Motte': ['Deepwood Motte'], 'Siege of Riverrun': ['Riverrun'], 'Battle of the Green Fork': ['Green Fork'], 'Retaking of Harrenhal': ['Harrenhal'], 'Battle of Duskendale': ['Duskendale'], \"Sack of Torrhen's Square\": [\"Torrhen's Square\"], 'Battle of the Whispering Wood': ['Whispering Wood'], 'Battle of the Shield Islands': ['Shield Islands'], 'Siege of Dragonstone': ['Dragonstone'], \"Siege of Storm's End\": [\"Storm's End\"], 'Siege of Darry': ['Darry'], 'Sack of Harrenhal': ['Harrenhal'], 'Siege of Winterfell': ['Winterfell'], 'Siege of Raventree': ['Raventree'], 'Battle of the Burning Septry': [nan], 'Sack of Darry': ['Darry'], 'Battle of the Ruby Ford': ['Ruby Ford'], 'Battle of the Camps': ['Riverrun'], 'Battle of the Golden Tooth': ['Golden Tooth'], 'Battle of the Stony Shore': ['Stony Shore'], 'Sack of Winterfell': ['Winterfell'], 'Battle of Riverrun': ['Riverrun'], 'The Red Wedding': ['The Twins'], \"Battle of Torrhen's Square\": [\"Torrhen's Square\"], 'Fall of Moat Cailin': ['Moat Cailin'], 'Battle of Deepwood Motte': ['Deepwood Motte'], 'Battle of the Fords': ['Red Fork'], 'Sack of Saltpans': ['Saltpans'], 'Battle of Winterfell': ['Winterfell'], 'Battle of the Blackwater': [\"King's Landing\"], 'Battle of the Crag': ['Crag'], \"Second Seige of Storm's End\": [\"Storm's End\"]}\n"
     ]
    }
   ],
   "source": [
    "print (battle_locations)"
   ]
  },
  {
   "cell_type": "code",
   "execution_count": 7,
   "metadata": {},
   "outputs": [
    {
     "data": {
      "text/plain": [
       "['Riverrun']"
      ]
     },
     "execution_count": 7,
     "metadata": {},
     "output_type": "execute_result"
    }
   ],
   "source": [
    "battle_locations ['Battle of the Camps']"
   ]
  },
  {
   "cell_type": "code",
   "execution_count": 8,
   "metadata": {
    "collapsed": true
   },
   "outputs": [],
   "source": [
    "key1= 'Joffrey/Tommen Baratheon'\n",
    "value1 = king_def_battle[key1]"
   ]
  },
  {
   "cell_type": "code",
   "execution_count": 9,
   "metadata": {},
   "outputs": [
    {
     "data": {
      "text/plain": [
       "'Joffrey/Tommen Baratheon'"
      ]
     },
     "execution_count": 9,
     "metadata": {},
     "output_type": "execute_result"
    }
   ],
   "source": [
    "key1"
   ]
  },
  {
   "cell_type": "code",
   "execution_count": 10,
   "metadata": {},
   "outputs": [
    {
     "data": {
      "text/plain": [
       "['Battle of the Green Fork',\n",
       " 'Battle of the Whispering Wood',\n",
       " 'Battle of the Camps',\n",
       " 'Battle of Oxcross',\n",
       " 'Sack of Harrenhal',\n",
       " 'Battle of the Crag',\n",
       " 'Battle of the Blackwater',\n",
       " 'Siege of Darry',\n",
       " 'Battle of Duskendale',\n",
       " 'Siege of Seagard',\n",
       " 'Battle of the Shield Islands',\n",
       " 'Invasion of Ryamsport, Vinetown, and Starfish Harbor',\n",
       " 'Siege of Winterfell']"
      ]
     },
     "execution_count": 10,
     "metadata": {},
     "output_type": "execute_result"
    }
   ],
   "source": [
    "value1"
   ]
  },
  {
   "cell_type": "code",
   "execution_count": 12,
   "metadata": {},
   "outputs": [
    {
     "name": "stdout",
     "output_type": "stream",
     "text": [
      "{'Stannis Baratheon': [\"Second Seige of Storm's End\", 'Siege of Dragonstone'], 'Joffrey/Tommen Baratheon': ['Battle of the Green Fork', 'Battle of the Whispering Wood', 'Battle of the Camps', 'Battle of Oxcross', 'Sack of Harrenhal', 'Battle of the Crag', 'Battle of the Blackwater', 'Siege of Darry', 'Battle of Duskendale', 'Siege of Seagard', 'Battle of the Shield Islands', 'Invasion of Ryamsport, Vinetown, and Starfish Harbor', 'Siege of Winterfell'], 'Renly Baratheon': [\"Siege of Storm's End\"], 'Mance Rayder': ['Battle of Castle Black'], 'Robb Stark': ['Battle of the Golden Tooth', \"Battle at the Mummer's Ford\", 'Battle of Riverrun', 'Sack of Darry', 'Battle of Moat Cailin', 'Battle of Deepwood Motte', 'Battle of the Stony Shore', 'Battle of Winterfell', 'Sack of Winterfell', 'Battle of the Fords', 'Battle of the Ruby Ford', 'The Red Wedding', 'Siege of Riverrun', 'Siege of Raventree'], 'Balon/Euron Greyjoy': [\"Battle of Torrhen's Square\", \"Sack of Torrhen's Square\", 'Fall of Moat Cailin', 'Retaking of Deepwood Motte']}\n"
     ]
    }
   ],
   "source": [
    "print(king_def_battle)"
   ]
  },
  {
   "cell_type": "code",
   "execution_count": 24,
   "metadata": {},
   "outputs": [
    {
     "data": {
      "text/plain": [
       "{'cristina': 24, 'michele': 24}"
      ]
     },
     "execution_count": 24,
     "metadata": {},
     "output_type": "execute_result"
    }
   ],
   "source": [
    "# ora voglio creare il dizionario con le due cose di prima\n",
    "# per aggiungere cose al dizionario\n",
    "dict_new = {} #questo serve solo per il vuoto\n",
    "dict_new={'cristina':24}\n",
    "dict_new['michele'] = 24 \n",
    "dict_new"
   ]
  },
  {
   "cell_type": "code",
   "execution_count": 15,
   "metadata": {
    "collapsed": true
   },
   "outputs": [],
   "source": [
    "batt_king = {}"
   ]
  },
  {
   "cell_type": "code",
   "execution_count": 25,
   "metadata": {
    "collapsed": true
   },
   "outputs": [],
   "source": [
    "for battle in value1:\n",
    "    batt_king[battle] = key1"
   ]
  },
  {
   "cell_type": "code",
   "execution_count": 28,
   "metadata": {},
   "outputs": [
    {
     "data": {
      "text/plain": [
       "{'Battle of Duskendale': 'Joffrey/Tommen Baratheon',\n",
       " 'Battle of Oxcross': 'Joffrey/Tommen Baratheon',\n",
       " 'Battle of the Blackwater': 'Joffrey/Tommen Baratheon',\n",
       " 'Battle of the Camps': 'Joffrey/Tommen Baratheon',\n",
       " 'Battle of the Crag': 'Joffrey/Tommen Baratheon',\n",
       " 'Battle of the Green Fork': 'Joffrey/Tommen Baratheon',\n",
       " 'Battle of the Shield Islands': 'Joffrey/Tommen Baratheon',\n",
       " 'Battle of the Whispering Wood': 'Joffrey/Tommen Baratheon',\n",
       " 'Invasion of Ryamsport, Vinetown, and Starfish Harbor': 'Joffrey/Tommen Baratheon',\n",
       " 'Sack of Harrenhal': 'Joffrey/Tommen Baratheon',\n",
       " 'Siege of Darry': 'Joffrey/Tommen Baratheon',\n",
       " 'Siege of Seagard': 'Joffrey/Tommen Baratheon',\n",
       " 'Siege of Winterfell': 'Joffrey/Tommen Baratheon'}"
      ]
     },
     "execution_count": 28,
     "metadata": {},
     "output_type": "execute_result"
    }
   ],
   "source": [
    "#associo il re alle battaglie a cui ha fatto da difensore\n",
    "batt_king"
   ]
  },
  {
   "cell_type": "code",
   "execution_count": 36,
   "metadata": {},
   "outputs": [],
   "source": [
    "for key1 in king_def_battle:\n",
    "    value1 = king_def_battle [key1]\n",
    "    for battle in value1:\n",
    "        batt_king[battle] =key1"
   ]
  },
  {
   "cell_type": "code",
   "execution_count": 39,
   "metadata": {},
   "outputs": [],
   "source": [
    "#quindi abbiamo iterato sul dizionaro e ora abbiamo associato ad ogni battaglia il re che ha fatto da difensore"
   ]
  },
  {
   "cell_type": "code",
   "execution_count": 38,
   "metadata": {},
   "outputs": [
    {
     "data": {
      "text/plain": [
       "{\"Battle at the Mummer's Ford\": 'Robb Stark',\n",
       " 'Battle of Castle Black': 'Mance Rayder',\n",
       " 'Battle of Deepwood Motte': 'Robb Stark',\n",
       " 'Battle of Duskendale': 'Joffrey/Tommen Baratheon',\n",
       " 'Battle of Moat Cailin': 'Robb Stark',\n",
       " 'Battle of Oxcross': 'Joffrey/Tommen Baratheon',\n",
       " 'Battle of Riverrun': 'Robb Stark',\n",
       " \"Battle of Torrhen's Square\": 'Balon/Euron Greyjoy',\n",
       " 'Battle of Winterfell': 'Robb Stark',\n",
       " 'Battle of the Blackwater': 'Joffrey/Tommen Baratheon',\n",
       " 'Battle of the Camps': 'Joffrey/Tommen Baratheon',\n",
       " 'Battle of the Crag': 'Joffrey/Tommen Baratheon',\n",
       " 'Battle of the Fords': 'Robb Stark',\n",
       " 'Battle of the Golden Tooth': 'Robb Stark',\n",
       " 'Battle of the Green Fork': 'Joffrey/Tommen Baratheon',\n",
       " 'Battle of the Ruby Ford': 'Robb Stark',\n",
       " 'Battle of the Shield Islands': 'Joffrey/Tommen Baratheon',\n",
       " 'Battle of the Stony Shore': 'Robb Stark',\n",
       " 'Battle of the Whispering Wood': 'Joffrey/Tommen Baratheon',\n",
       " 'Fall of Moat Cailin': 'Balon/Euron Greyjoy',\n",
       " 'Invasion of Ryamsport, Vinetown, and Starfish Harbor': 'Joffrey/Tommen Baratheon',\n",
       " 'Retaking of Deepwood Motte': 'Balon/Euron Greyjoy',\n",
       " 'Sack of Darry': 'Robb Stark',\n",
       " 'Sack of Harrenhal': 'Joffrey/Tommen Baratheon',\n",
       " \"Sack of Torrhen's Square\": 'Balon/Euron Greyjoy',\n",
       " 'Sack of Winterfell': 'Robb Stark',\n",
       " \"Second Seige of Storm's End\": 'Stannis Baratheon',\n",
       " 'Siege of Darry': 'Joffrey/Tommen Baratheon',\n",
       " 'Siege of Dragonstone': 'Stannis Baratheon',\n",
       " 'Siege of Raventree': 'Robb Stark',\n",
       " 'Siege of Riverrun': 'Robb Stark',\n",
       " 'Siege of Seagard': 'Joffrey/Tommen Baratheon',\n",
       " \"Siege of Storm's End\": 'Renly Baratheon',\n",
       " 'Siege of Winterfell': 'Joffrey/Tommen Baratheon',\n",
       " 'The Red Wedding': 'Robb Stark'}"
      ]
     },
     "execution_count": 38,
     "metadata": {},
     "output_type": "execute_result"
    }
   ],
   "source": [
    "batt_king"
   ]
  },
  {
   "cell_type": "code",
   "execution_count": null,
   "metadata": {
    "collapsed": true
   },
   "outputs": [],
   "source": []
  }
 ],
 "metadata": {
  "kernelspec": {
   "display_name": "Python 3",
   "language": "python",
   "name": "python3"
  },
  "language_info": {
   "codemirror_mode": {
    "name": "ipython",
    "version": 3
   },
   "file_extension": ".py",
   "mimetype": "text/x-python",
   "name": "python",
   "nbconvert_exporter": "python",
   "pygments_lexer": "ipython3",
   "version": "3.6.1"
  }
 },
 "nbformat": 4,
 "nbformat_minor": 2
}
