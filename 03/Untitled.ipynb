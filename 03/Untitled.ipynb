{
 "cells": [
  {
   "cell_type": "code",
   "execution_count": 6,
   "metadata": {
    "scrolled": true
   },
   "outputs": [],
   "source": [
    "import json\n",
    "\n"
   ]
  },
  {
   "cell_type": "code",
   "execution_count": 18,
   "metadata": {},
   "outputs": [
    {
     "name": "stdout",
     "output_type": "stream",
     "text": [
      "{'Battle of Oxcross': ['Oxcross'], 'Battle of Moat Cailin': ['Moat Cailin'], 'Siege of Seagard': ['Seagard'], 'Battle of Castle Black': ['Castle Black'], \"Battle at the Mummer's Ford\": [\"Mummer's Ford\"], 'Invasion of Ryamsport, Vinetown, and Starfish Harbor': ['Ryamsport, Vinetown, Starfish Harbor'], 'Retaking of Deepwood Motte': ['Deepwood Motte'], 'Siege of Riverrun': ['Riverrun'], 'Battle of the Green Fork': ['Green Fork'], 'Retaking of Harrenhal': ['Harrenhal'], 'Battle of Duskendale': ['Duskendale'], \"Sack of Torrhen's Square\": [\"Torrhen's Square\"], 'Battle of the Whispering Wood': ['Whispering Wood'], 'Battle of the Shield Islands': ['Shield Islands'], 'Siege of Dragonstone': ['Dragonstone'], \"Siege of Storm's End\": [\"Storm's End\"], 'Siege of Darry': ['Darry'], 'Sack of Harrenhal': ['Harrenhal'], 'Siege of Winterfell': ['Winterfell'], 'Siege of Raventree': ['Raventree'], 'Battle of the Burning Septry': [nan], 'Sack of Darry': ['Darry'], 'Battle of the Ruby Ford': ['Ruby Ford'], 'Battle of the Camps': ['Riverrun'], 'Battle of the Golden Tooth': ['Golden Tooth'], 'Battle of the Stony Shore': ['Stony Shore'], 'Sack of Winterfell': ['Winterfell'], 'Battle of Riverrun': ['Riverrun'], 'The Red Wedding': ['The Twins'], \"Battle of Torrhen's Square\": [\"Torrhen's Square\"], 'Fall of Moat Cailin': ['Moat Cailin'], 'Battle of Deepwood Motte': ['Deepwood Motte'], 'Battle of the Fords': ['Red Fork'], 'Sack of Saltpans': ['Saltpans'], 'Battle of Winterfell': ['Winterfell'], 'Battle of the Blackwater': [\"King's Landing\"], 'Battle of the Crag': ['Crag'], \"Second Seige of Storm's End\": [\"Storm's End\"]}\n"
     ]
    }
   ],
   "source": [
    "with open(\"Data/battle_locations.json\") as json_data:\n",
    "    battle_location = json.load(json_data)\n",
    "    print(battle_location)\n"
   ]
  },
  {
   "cell_type": "code",
   "execution_count": 19,
   "metadata": {},
   "outputs": [
    {
     "name": "stdout",
     "output_type": "stream",
     "text": [
      "['Battle of the Golden Tooth\\n', \"Battle at the Mummer's Ford\\n\", 'Battle of Riverrun\\n', 'Battle of the Green Fork\\n', 'Battle of the Whispering Wood\\n', 'Battle of the Camps\\n', 'Sack of Darry\\n', 'Battle of Moat Cailin\\n', 'Battle of Deepwood Motte\\n', 'Battle of the Stony Shore\\n', \"Battle of Torrhen's Square\\n\", 'Battle of Winterfell\\n', \"Sack of Torrhen's Square\\n\", 'Sack of Winterfell\\n', 'Battle of Oxcross\\n', \"Siege of Storm's End\\n\", 'Battle of the Fords\\n', 'Sack of Harrenhal\\n', 'Battle of the Crag\\n', 'Battle of the Blackwater\\n', 'Siege of Darry\\n', 'Battle of Duskendale\\n', 'Battle of the Burning Septry\\n', 'Battle of the Ruby Ford\\n', 'Retaking of Harrenhal\\n', 'The Red Wedding\\n', 'Siege of Seagard\\n', 'Battle of Castle Black\\n', 'Fall of Moat Cailin\\n', 'Sack of Saltpans\\n', 'Retaking of Deepwood Motte\\n', 'Battle of the Shield Islands\\n', 'Invasion of Ryamsport, Vinetown, and Starfish Harbor\\n', \"Second Seige of Storm's End\\n\", 'Siege of Dragonstone\\n', 'Siege of Riverrun\\n', 'Siege of Raventree\\n', 'Siege of Winterfell\\n']\n"
     ]
    }
   ],
   "source": [
    "battle_names=open(\"Data/battle_names.txt\",\"r\") \n",
    "print (list((battle_names)))"
   ]
  },
  {
   "cell_type": "code",
   "execution_count": 20,
   "metadata": {},
   "outputs": [
    {
     "name": "stdout",
     "output_type": "stream",
     "text": [
      "{'Stannis Baratheon': [\"Siege of Storm's End\", 'Battle of the Blackwater', 'Battle of Castle Black', 'Retaking of Deepwood Motte', 'Siege of Winterfell'], 'Balon/Euron Greyjoy': ['Battle of Moat Cailin', 'Battle of Deepwood Motte', 'Battle of the Stony Shore', 'Battle of Winterfell', \"Sack of Torrhen's Square\", 'Battle of the Shield Islands', 'Invasion of Ryamsport, Vinetown, and Starfish Harbor'], 'Robb Stark': ['Battle of the Green Fork', 'Battle of the Whispering Wood', 'Battle of the Camps', \"Battle of Torrhen's Square\", 'Battle of Oxcross', 'Sack of Harrenhal', 'Battle of the Crag', 'Siege of Darry', 'Battle of Duskendale', 'Siege of Seagard'], 'Joffrey/Tommen Baratheon': ['Battle of the Golden Tooth', \"Battle at the Mummer's Ford\", 'Battle of Riverrun', 'Sack of Darry', 'Sack of Winterfell', 'Battle of the Fords', 'Battle of the Ruby Ford', 'Retaking of Harrenhal', 'The Red Wedding', 'Fall of Moat Cailin', \"Second Seige of Storm's End\", 'Siege of Dragonstone', 'Siege of Riverrun', 'Siege of Raventree']}\n"
     ]
    }
   ],
   "source": [
    "with open(\"Data/king_attacker_battles.json\") as json_data:\n",
    "    king_attacker_battles = json.load(json_data)\n",
    "    print(king_attacker_battles)"
   ]
  },
  {
   "cell_type": "code",
   "execution_count": 21,
   "metadata": {},
   "outputs": [
    {
     "name": "stdout",
     "output_type": "stream",
     "text": [
      "{'Stannis Baratheon': [\"Second Seige of Storm's End\", 'Siege of Dragonstone'], 'Joffrey/Tommen Baratheon': ['Battle of the Green Fork', 'Battle of the Whispering Wood', 'Battle of the Camps', 'Battle of Oxcross', 'Sack of Harrenhal', 'Battle of the Crag', 'Battle of the Blackwater', 'Siege of Darry', 'Battle of Duskendale', 'Siege of Seagard', 'Battle of the Shield Islands', 'Invasion of Ryamsport, Vinetown, and Starfish Harbor', 'Siege of Winterfell'], 'Renly Baratheon': [\"Siege of Storm's End\"], 'Mance Rayder': ['Battle of Castle Black'], 'Robb Stark': ['Battle of the Golden Tooth', \"Battle at the Mummer's Ford\", 'Battle of Riverrun', 'Sack of Darry', 'Battle of Moat Cailin', 'Battle of Deepwood Motte', 'Battle of the Stony Shore', 'Battle of Winterfell', 'Sack of Winterfell', 'Battle of the Fords', 'Battle of the Ruby Ford', 'The Red Wedding', 'Siege of Riverrun', 'Siege of Raventree'], 'Balon/Euron Greyjoy': [\"Battle of Torrhen's Square\", \"Sack of Torrhen's Square\", 'Fall of Moat Cailin', 'Retaking of Deepwood Motte']}\n"
     ]
    }
   ],
   "source": [
    "with open(\"Data/king_defender_battles.json\") as json_data:\n",
    "    king_defender_battles = json.load(json_data)\n",
    "    print(king_defender_battles)"
   ]
  },
  {
   "cell_type": "code",
   "execution_count": 22,
   "metadata": {},
   "outputs": [
    {
     "name": "stdout",
     "output_type": "stream",
     "text": [
      "{'The Stormlands': [\"Storm's End\", \"Storm's End\", 'Dragonstone'], 'The Reach': ['Shield Islands', 'Ryamsport, Vinetown, Starfish Harbor'], 'The Crownlands': [\"King's Landing\", 'Duskendale'], 'The North': ['Moat Cailin', 'Deepwood Motte', 'Stony Shore', \"Torrhen's Square\", 'Winterfell', \"Torrhen's Square\", 'Winterfell', 'Moat Cailin', 'Deepwood Motte', 'Winterfell'], 'The Riverlands': [\"Mummer's Ford\", 'Riverrun', 'Green Fork', 'Whispering Wood', 'Riverrun', 'Darry', 'Red Fork', 'Harrenhal', 'Darry', nan, 'Ruby Ford', 'Harrenhal', 'The Twins', 'Seagard', 'Saltpans', 'Riverrun', 'Raventree'], 'Beyond the Wall': ['Castle Black'], 'The Westerlands': ['Golden Tooth', 'Oxcross', 'Crag']}\n"
     ]
    }
   ],
   "source": [
    "with open(\"Data/region_locations.json\") as json_data:\n",
    "    region_locations = json.load(json_data)\n",
    "    print(region_locations)    "
   ]
  },
  {
   "cell_type": "code",
   "execution_count": 27,
   "metadata": {},
   "outputs": [
    {
     "data": {
      "text/plain": [
       "dict"
      ]
     },
     "execution_count": 27,
     "metadata": {},
     "output_type": "execute_result"
    }
   ],
   "source": [
    "type (battle_location)"
   ]
  },
  {
   "cell_type": "code",
   "execution_count": 26,
   "metadata": {},
   "outputs": [
    {
     "ename": "TypeError",
     "evalue": "dict expected at most 1 arguments, got 5",
     "output_type": "error",
     "traceback": [
      "\u001b[1;31m---------------------------------------------------------------------------\u001b[0m",
      "\u001b[1;31mTypeError\u001b[0m                                 Traceback (most recent call last)",
      "\u001b[1;32m<ipython-input-26-e5031096641e>\u001b[0m in \u001b[0;36m<module>\u001b[1;34m()\u001b[0m\n\u001b[1;32m----> 1\u001b[1;33m \u001b[0mes\u001b[0m\u001b[1;33m=\u001b[0m\u001b[0mdict\u001b[0m\u001b[1;33m(\u001b[0m\u001b[0mbattle_location\u001b[0m\u001b[1;33m,\u001b[0m\u001b[0mbattle_names\u001b[0m\u001b[1;33m,\u001b[0m\u001b[0mking_attacker_battles\u001b[0m\u001b[1;33m,\u001b[0m\u001b[0mking_defender_battles\u001b[0m\u001b[1;33m,\u001b[0m\u001b[0mregion_locations\u001b[0m\u001b[1;33m)\u001b[0m\u001b[1;33m\u001b[0m\u001b[0m\n\u001b[0m\u001b[0;32m      2\u001b[0m \u001b[0mlist\u001b[0m\u001b[1;33m(\u001b[0m\u001b[0mes\u001b[0m\u001b[1;33m)\u001b[0m\u001b[1;33m\u001b[0m\u001b[0m\n\u001b[0;32m      3\u001b[0m \u001b[1;31m#alldict=dict(all)\u001b[0m\u001b[1;33m\u001b[0m\u001b[1;33m\u001b[0m\u001b[0m\n\u001b[0;32m      4\u001b[0m \u001b[1;31m#print(alldict)\u001b[0m\u001b[1;33m\u001b[0m\u001b[1;33m\u001b[0m\u001b[0m\n",
      "\u001b[1;31mTypeError\u001b[0m: dict expected at most 1 arguments, got 5"
     ]
    }
   ],
   "source": [
    "es=dict(battle_location,battle_names,king_attacker_battles,king_defender_battles,region_locations)\n",
    "list(es)\n",
    "#alldict=dict(all)\n",
    "#print(alldict)"
   ]
  },
  {
   "cell_type": "code",
   "execution_count": null,
   "metadata": {
    "collapsed": true
   },
   "outputs": [],
   "source": []
  }
 ],
 "metadata": {
  "kernelspec": {
   "display_name": "Python 3",
   "language": "python",
   "name": "python3"
  },
  "language_info": {
   "codemirror_mode": {
    "name": "ipython",
    "version": 3
   },
   "file_extension": ".py",
   "mimetype": "text/x-python",
   "name": "python",
   "nbconvert_exporter": "python",
   "pygments_lexer": "ipython3",
   "version": "3.6.1"
  }
 },
 "nbformat": 4,
 "nbformat_minor": 2
}
